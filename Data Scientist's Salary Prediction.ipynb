{
 "cells": [
  {
   "cell_type": "code",
   "execution_count": null,
   "metadata": {
    "colab": {},
    "colab_type": "code",
    "id": "ZIZRlvT08a97"
   },
   "outputs": [],
   "source": [
    "# Importing essential libraries\n",
    "import numpy as np\n",
    "import pandas as pd"
   ]
  },
  {
   "cell_type": "code",
   "execution_count": null,
   "metadata": {
    "colab": {},
    "colab_type": "code",
    "id": "o5bUh7Wg9N91"
   },
   "outputs": [],
   "source": [
    "# Loading the dataset\n",
    "df = pd.read_csv(\"glassdoor_jobs.csv\")"
   ]
  },
  {
   "cell_type": "markdown",
   "metadata": {
    "colab_type": "text",
    "id": "K_rmvx-M9p4L"
   },
   "source": [
    "# **Exploring Dataset**"
   ]
  },
  {
   "cell_type": "code",
   "execution_count": null,
   "metadata": {
    "colab": {
     "base_uri": "https://localhost:8080/",
     "height": 35
    },
    "colab_type": "code",
    "id": "WIlMXg5R9vfj",
    "outputId": "118ade0a-3c2a-41e9-ab2b-2b50b2720487"
   },
   "outputs": [],
   "source": [
    "df.shape"
   ]
  },
  {
   "cell_type": "code",
   "execution_count": null,
   "metadata": {
    "colab": {
     "base_uri": "https://localhost:8080/",
     "height": 91
    },
    "colab_type": "code",
    "id": "P2yFRtWa-NN6",
    "outputId": "f51a6030-3304-4095-e706-8606605b428a"
   },
   "outputs": [],
   "source": [
    "df.columns"
   ]
  },
  {
   "cell_type": "code",
   "execution_count": null,
   "metadata": {
    "colab": {
     "base_uri": "https://localhost:8080/",
     "height": 313
    },
    "colab_type": "code",
    "id": "fL9f7DGl-Qqa",
    "outputId": "a20afb1c-7556-49e8-b675-30be3e925749"
   },
   "outputs": [],
   "source": [
    "df.dtypes"
   ]
  },
  {
   "cell_type": "code",
   "execution_count": null,
   "metadata": {
    "colab": {
     "base_uri": "https://localhost:8080/",
     "height": 522
    },
    "colab_type": "code",
    "id": "fOrkbAOD-VyD",
    "outputId": "78d8f61c-f1db-4e80-b77a-18006e1393ef"
   },
   "outputs": [],
   "source": [
    "df.head()"
   ]
  },
  {
   "cell_type": "code",
   "execution_count": null,
   "metadata": {
    "colab": {
     "base_uri": "https://localhost:8080/",
     "height": 424
    },
    "colab_type": "code",
    "id": "U6lWbFKq-nKj",
    "outputId": "5153de57-bc70-4040-de97-e935a23eb752"
   },
   "outputs": [],
   "source": [
    "df.info()"
   ]
  },
  {
   "cell_type": "markdown",
   "metadata": {
    "colab_type": "text",
    "id": "ZWmNKT09Y1gw"
   },
   "source": [
    "_**Note:** No feature has NaN values, but there may be the case where the NaN values are replaced by some other value(s) like -1, 0, etc._"
   ]
  },
  {
   "cell_type": "code",
   "execution_count": null,
   "metadata": {
    "colab": {
     "base_uri": "https://localhost:8080/",
     "height": 144
    },
    "colab_type": "code",
    "id": "cyYpqW9O-r5j",
    "outputId": "b5abc938-b868-469b-ab01-14448f2a7868"
   },
   "outputs": [],
   "source": [
    "df.describe().T"
   ]
  },
  {
   "cell_type": "markdown",
   "metadata": {
    "colab_type": "text",
    "id": "TZEStdgCZXGn"
   },
   "source": [
    "_**Note:** NaN values are replace by -1 in numeric features._"
   ]
  },
  {
   "cell_type": "markdown",
   "metadata": {
    "colab_type": "text",
    "id": "xsWXCXHX_EN8"
   },
   "source": [
    "# **Exploratory Data Analysis & Data Cleaning**\n",
    "* Plotting bargraphs and countplots for numerical and categorical features respectively.\n",
    "* Removing unwanted columns\n",
    "* Handling NaN/missing values\n",
    "* Removing unwanted alphabet/special characters from the features"
   ]
  },
  {
   "cell_type": "code",
   "execution_count": null,
   "metadata": {
    "colab": {
     "base_uri": "https://localhost:8080/",
     "height": 54
    },
    "colab_type": "code",
    "id": "f8z6p8FW-6lS",
    "outputId": "cb5449fe-9c0d-4630-e61a-09383a5db85a"
   },
   "outputs": [],
   "source": [
    "# Removing unwanted column\n",
    "print('Shape before removing: {}'.format(df.shape))\n",
    "df.drop(labels=['Unnamed: 0'], axis='columns', inplace=True)\n",
    "print('Shape after removing: {}'.format(df.shape))"
   ]
  },
  {
   "cell_type": "code",
   "execution_count": null,
   "metadata": {
    "colab": {
     "base_uri": "https://localhost:8080/",
     "height": 74
    },
    "colab_type": "code",
    "id": "ODlQyj9bdzN3",
    "outputId": "26413763-322e-401a-ea10-08a35ed21477"
   },
   "outputs": [],
   "source": [
    "# Importing visualization libraries\n",
    "import matplotlib.pyplot as plt\n",
    "import seaborn as sns\n",
    "%matplotlib inline"
   ]
  },
  {
   "cell_type": "code",
   "execution_count": null,
   "metadata": {
    "colab": {
     "base_uri": "https://localhost:8080/",
     "height": 404
    },
    "colab_type": "code",
    "id": "ZVlPraRPdpZT",
    "outputId": "f15ca431-2c84-4e3c-ceaa-0ca01c0e2f29"
   },
   "outputs": [],
   "source": [
    "# Visualising Rating column\n",
    "plt.figure(figsize=(6,6))\n",
    "g = sns.distplot(a=df['Rating'])\n",
    "p = plt.title('Before handling -1 value')"
   ]
  },
  {
   "cell_type": "markdown",
   "metadata": {
    "colab_type": "text",
    "id": "EIsBbksmgMbP"
   },
   "source": [
    "_**Note: Since the Rating feature follows the Gaussian/Normal Distribution**, we'll replace -1 values with mean of the distribution._"
   ]
  },
  {
   "cell_type": "code",
   "execution_count": null,
   "metadata": {
    "colab": {
     "base_uri": "https://localhost:8080/",
     "height": 404
    },
    "colab_type": "code",
    "id": "8SJq3hbogLXS",
    "outputId": "b056c20d-d568-4b31-8903-0aa3639056da"
   },
   "outputs": [],
   "source": [
    "# Handling -1 values in Rating column\n",
    "df['Rating'] = df['Rating'].apply(lambda x: np.NaN if x==-1 else x)\n",
    "df['Rating'] = df['Rating'].fillna(df['Rating'].mean())\n",
    "\n",
    "plt.figure(figsize=(6,6))\n",
    "g = sns.distplot(a=df['Rating'])\n",
    "p = plt.title('After handling -1 value')"
   ]
  },
  {
   "cell_type": "code",
   "execution_count": null,
   "metadata": {
    "colab": {
     "base_uri": "https://localhost:8080/",
     "height": 322
    },
    "colab_type": "code",
    "id": "BnmQga-e9Z8N",
    "outputId": "9d510279-e031-4ae8-8a5c-8ba652278256"
   },
   "outputs": [],
   "source": [
    "# Outliers in Rating\n",
    "plt.figure(figsize=(5,5))\n",
    "sns.boxplot(y='Rating', data=df, orient='v', palette='Set1')\n",
    "p = plt.title('Boxplot for Rating')\n",
    "p = plt.ylabel('Rating')"
   ]
  },
  {
   "cell_type": "code",
   "execution_count": null,
   "metadata": {
    "colab": {
     "base_uri": "https://localhost:8080/",
     "height": 404
    },
    "colab_type": "code",
    "id": "n5UpZs7djDV6",
    "outputId": "754c55ee-9e25-4c5e-e9bd-570ff4eee737"
   },
   "outputs": [],
   "source": [
    "# Visualising Founded column\n",
    "plt.figure(figsize=(6,6))\n",
    "g = sns.distplot(a=df['Founded'])\n",
    "p = plt.title('Before handling -1 value')"
   ]
  },
  {
   "cell_type": "markdown",
   "metadata": {
    "colab_type": "text",
    "id": "8S425qcwpuve"
   },
   "source": [
    "_**Note: Since Founded feature does not follow Gaussian/Normal distribution but is Right-Skewed graph**, we'll replacing the -1 values with median of the distribution._"
   ]
  },
  {
   "cell_type": "code",
   "execution_count": null,
   "metadata": {
    "colab": {
     "base_uri": "https://localhost:8080/",
     "height": 404
    },
    "colab_type": "code",
    "id": "AoePLsISnsb3",
    "outputId": "6f9ce67f-db68-484d-a3dd-3b0dbe6ea8cc"
   },
   "outputs": [],
   "source": [
    "# Handling -1 values in Founded column\n",
    "df['Founded'] = df['Founded'].apply(lambda x: np.NaN if x==-1 else x)\n",
    "df['Founded'] = df['Founded'].fillna(int(df['Founded'].median()))\n",
    "df['Founded'] = df['Founded'].astype('int')\n",
    "\n",
    "plt.figure(figsize=(6,6))\n",
    "g = sns.distplot(a=df['Founded'])\n",
    "p = plt.title('After handling -1 value')"
   ]
  },
  {
   "cell_type": "code",
   "execution_count": null,
   "metadata": {
    "colab": {
     "base_uri": "https://localhost:8080/",
     "height": 322
    },
    "colab_type": "code",
    "id": "oq7QhQeY8Uvm",
    "outputId": "89e0eb01-6e84-4c8a-a0c0-8d3f33f2c6f3"
   },
   "outputs": [],
   "source": [
    "# Outliers in Founded\n",
    "plt.figure(figsize=(5,5))\n",
    "sns.boxplot(y='Founded', data=df, orient='v', palette='Set1')\n",
    "p = plt.title('Boxplot for Founded')\n",
    "p = plt.ylabel('Founded year')"
   ]
  },
  {
   "cell_type": "code",
   "execution_count": null,
   "metadata": {
    "colab": {
     "base_uri": "https://localhost:8080/",
     "height": 405
    },
    "colab_type": "code",
    "id": "gd9h6xdU-XtN",
    "outputId": "71a6bf07-beb4-4d64-e787-4a00f04f58c9"
   },
   "outputs": [],
   "source": [
    "# Cleaning Job Title column\n",
    "df['Job Title'].value_counts().nlargest(20)"
   ]
  },
  {
   "cell_type": "code",
   "execution_count": null,
   "metadata": {
    "colab": {
     "base_uri": "https://localhost:8080/",
     "height": 165
    },
    "colab_type": "code",
    "id": "GCb65YLmxEI9",
    "outputId": "deefe4ae-3011-4be7-e0ab-4d74b8f09c74"
   },
   "outputs": [],
   "source": [
    "def title_cleaner(title):\n",
    "    if 'data scientist' in title.lower() or 'scientist' in title.lower():\n",
    "        return 'data scientist'\n",
    "    elif 'data engineer' in title.lower():\n",
    "        return 'data engineer'\n",
    "    elif 'data analyst' in title.lower():\n",
    "        return 'data analyst'\n",
    "    elif 'machine learning' in title.lower():\n",
    "        return 'mle'\n",
    "    elif 'manager' in title.lower():\n",
    "        return 'manager'\n",
    "    elif 'director' in title.lower():\n",
    "        return 'director'\n",
    "    else:\n",
    "        return 'other'\n",
    "\n",
    "df['job_title'] = df['Job Title'].apply(title_cleaner)\n",
    "df['job_title'].value_counts()"
   ]
  },
  {
   "cell_type": "code",
   "execution_count": null,
   "metadata": {
    "colab": {
     "base_uri": "https://localhost:8080/",
     "height": 559
    },
    "colab_type": "code",
    "id": "rY6KemyYmMaG",
    "outputId": "fc5d3cbc-6935-4976-bb16-e947d0676caa"
   },
   "outputs": [],
   "source": [
    "plt.figure(figsize=(8,8))\n",
    "g = sns.countplot(x='job_title', data=df, order = df['job_title'].value_counts().index)\n",
    "p = plt.title('Count plot for Job Title')\n",
    "p = plt.xlabel('Job Title')\n",
    "p = plt.ylabel('Count')\n",
    "p = g.set_xticklabels(g.get_xticklabels(), rotation=45, horizontalalignment='right')"
   ]
  },
  {
   "cell_type": "code",
   "execution_count": null,
   "metadata": {
    "colab": {
     "base_uri": "https://localhost:8080/",
     "height": 91
    },
    "colab_type": "code",
    "id": "11G7QFTUyQT-",
    "outputId": "08836141-5e0e-48e0-817e-af80bed0fc8b"
   },
   "outputs": [],
   "source": [
    "def title_seniority(title):\n",
    "    if 'sr.' in title.lower() or 'senior' in title.lower() or 'lead' in title.lower() or 'principal' in title.lower():\n",
    "            return 'sr'\n",
    "    elif 'junior' in title.lower() or 'jr.' in title.lower():\n",
    "        return 'jr'\n",
    "    else:\n",
    "        return 'other'\n",
    "\n",
    "df['job_seniority'] = df['Job Title'].apply(title_seniority)\n",
    "df['job_seniority'].value_counts()"
   ]
  },
  {
   "cell_type": "code",
   "execution_count": null,
   "metadata": {
    "colab": {
     "base_uri": "https://localhost:8080/",
     "height": 513
    },
    "colab_type": "code",
    "id": "t4ot3M8Gm-Ht",
    "outputId": "5bd41311-3fa1-43c4-f49c-cfe29c2f4341"
   },
   "outputs": [],
   "source": [
    "plt.figure(figsize=(8,8))\n",
    "g = sns.countplot(x='job_seniority', data=df, order = df['job_seniority'].value_counts().index)\n",
    "p = plt.title('Count plot for Job Seniority')\n",
    "p = plt.xlabel('Job Seniority')\n",
    "p = plt.ylabel('Count')"
   ]
  },
  {
   "cell_type": "code",
   "execution_count": null,
   "metadata": {
    "colab": {},
    "colab_type": "code",
    "id": "eMPspk5DBWJ-"
   },
   "outputs": [],
   "source": [
    "# Removing Job Title column\n",
    "df.drop(labels=['Job Title'], axis=1, inplace=True)"
   ]
  },
  {
   "cell_type": "code",
   "execution_count": null,
   "metadata": {
    "colab": {
     "base_uri": "https://localhost:8080/",
     "height": 239
    },
    "colab_type": "code",
    "id": "6Njh3oExAmrN",
    "outputId": "ca3b4a01-736f-4730-ffe7-024625ac6156"
   },
   "outputs": [],
   "source": [
    "# Cleaning Salary Estimate column\n",
    "salary = df['Salary Estimate'].apply(lambda x: x.split(\"(\")[0])\n",
    "salary"
   ]
  },
  {
   "cell_type": "code",
   "execution_count": null,
   "metadata": {
    "colab": {
     "base_uri": "https://localhost:8080/",
     "height": 239
    },
    "colab_type": "code",
    "id": "8Uc5jutiGcMr",
    "outputId": "6563486d-798b-47a4-a66a-0c430d590eb9"
   },
   "outputs": [],
   "source": [
    "salary.value_counts()"
   ]
  },
  {
   "cell_type": "code",
   "execution_count": null,
   "metadata": {
    "colab": {
     "base_uri": "https://localhost:8080/",
     "height": 239
    },
    "colab_type": "code",
    "id": "7OvncWKN_Gpr",
    "outputId": "fa306c9b-7af1-4c42-dc22-368dbee71e85"
   },
   "outputs": [],
   "source": [
    "salary = salary.apply(lambda x: np.NaN if x=='-1' else x)\n",
    "salary"
   ]
  },
  {
   "cell_type": "code",
   "execution_count": null,
   "metadata": {
    "colab": {
     "base_uri": "https://localhost:8080/",
     "height": 239
    },
    "colab_type": "code",
    "id": "mT5pb1atkb3T",
    "outputId": "abb03176-3cfb-47f6-b4fa-d74753890683"
   },
   "outputs": [],
   "source": [
    "# Removing '$' and 'K' from 'Salary Estimate' column\n",
    "salary = salary.apply(lambda x: x if type(x)== type(3.5) else x.replace('$','').replace('K',''))\n",
    "salary"
   ]
  },
  {
   "cell_type": "code",
   "execution_count": null,
   "metadata": {
    "colab": {
     "base_uri": "https://localhost:8080/",
     "height": 183
    },
    "colab_type": "code",
    "id": "Lr2dA4kMmlHS",
    "outputId": "021c8c1b-541d-46ce-aba5-9456529304f7"
   },
   "outputs": [],
   "source": [
    "# Finding any inconsistencies in the salary\n",
    "print(\"Length of Salary: \",len(salary.unique()))\n",
    "salary.unique()[380:]"
   ]
  },
  {
   "cell_type": "markdown",
   "metadata": {
    "colab_type": "text",
    "id": "qt1weX7gDNw-"
   },
   "source": [
    "_**Note:** **Converting per hour salaries to per year salaries** (assuming 45 work hours per week and 52 working weeks), and removing **employer_provided_salary** from the salary array._"
   ]
  },
  {
   "cell_type": "code",
   "execution_count": null,
   "metadata": {
    "colab": {
     "base_uri": "https://localhost:8080/",
     "height": 146
    },
    "colab_type": "code",
    "id": "Xo6zKWTGo-FK",
    "outputId": "2e9d2b16-3715-4e7b-d497-ccbfd76a26f8"
   },
   "outputs": [],
   "source": [
    "# Removing the string employer provided salary from salary array\n",
    "salary = salary.apply(lambda x: x if type(x)==type(3.5) else x.lower().replace(\"employer provided salary:\", \"\"))\n",
    "salary.unique()[380:]"
   ]
  },
  {
   "cell_type": "code",
   "execution_count": null,
   "metadata": {
    "colab": {
     "base_uri": "https://localhost:8080/",
     "height": 146
    },
    "colab_type": "code",
    "id": "vAREHWRLOvci",
    "outputId": "7315d511-17a3-4301-d9ae-e806220cfe00"
   },
   "outputs": [],
   "source": [
    "# Converting per hour salaries to per year salaries\n",
    "def hourly_to_yearly(minlimit, maxlimit):\n",
    "  x = minlimit.strip()\n",
    "  y = maxlimit.strip()\n",
    "  x = int(int(minlimit)*45*52/1000)\n",
    "  y = int(int(maxlimit)*45*52/1000)\n",
    "  return '{}-{}'.format(x,y)\n",
    "\n",
    "salary = salary.apply(lambda x: x if type(x)==type(3.5) else (hourly_to_yearly(x.lower().replace(\"per hour\", \"\").split('-')[0], x.lower().replace(\"per hour\", \"\").split('-')[1]) if \"per hour\" in x.lower() else x))\n",
    "salary.unique()[380:]"
   ]
  },
  {
   "cell_type": "code",
   "execution_count": null,
   "metadata": {
    "colab": {
     "base_uri": "https://localhost:8080/",
     "height": 404
    },
    "colab_type": "code",
    "id": "hcvgqRnToD6h",
    "outputId": "15170994-ba07-4b0b-a256-9006438eb339"
   },
   "outputs": [],
   "source": [
    "# Creating column for salary i.e. average of the range\n",
    "df['Salary'] = salary.apply(lambda x:  x if type(x)==type(3.5) else (int(x.split(\"-\")[0]) + int(x.split(\"-\")[1].strip()))/2)\n",
    "\n",
    "plt.figure(figsize=(6,6))\n",
    "g = sns.distplot(a=df['Salary'])\n",
    "p = plt.title('Before handling NaN values')"
   ]
  },
  {
   "cell_type": "markdown",
   "metadata": {
    "colab_type": "text",
    "id": "prsu_PZ0LUXo"
   },
   "source": [
    "_**Note: Since the Rating feature follows the Gaussian/Normal Distribution**, but since there are few outlies, we'll replace -1 values with median of the distribution._"
   ]
  },
  {
   "cell_type": "code",
   "execution_count": null,
   "metadata": {
    "colab": {
     "base_uri": "https://localhost:8080/",
     "height": 404
    },
    "colab_type": "code",
    "id": "epZqAlIeLTTD",
    "outputId": "5ec7187b-feaf-4465-8c5d-4431ff2983e9"
   },
   "outputs": [],
   "source": [
    "# Handling NaN values in Salary column\n",
    "df['Salary'] = df['Salary'].fillna(df['Salary'].median())\n",
    "\n",
    "plt.figure(figsize=(6,6))\n",
    "g = sns.distplot(a=df['Salary'])\n",
    "p = plt.title('After handling NaN value')"
   ]
  },
  {
   "cell_type": "code",
   "execution_count": null,
   "metadata": {
    "colab": {
     "base_uri": "https://localhost:8080/",
     "height": 322
    },
    "colab_type": "code",
    "id": "oOoeGexL6cFc",
    "outputId": "bda83179-8277-46d1-cf17-107784a6976d"
   },
   "outputs": [],
   "source": [
    "# Outliers in Salary\n",
    "plt.figure(figsize=(5,5))\n",
    "g = sns.boxplot(y='Salary', data=df, orient='v', palette='Set1')\n",
    "p = plt.title('Boxplot for Salary')\n",
    "p = plt.ylabel('Salary')"
   ]
  },
  {
   "cell_type": "code",
   "execution_count": null,
   "metadata": {
    "colab": {},
    "colab_type": "code",
    "id": "jTMzGa-PNPOg"
   },
   "outputs": [],
   "source": [
    "# Cleaning Company Name column\n",
    "df[\"Company Name\"] = df['Company Name'].apply(lambda x: x.split(\"\\n\")[0])"
   ]
  },
  {
   "cell_type": "code",
   "execution_count": null,
   "metadata": {
    "colab": {
     "base_uri": "https://localhost:8080/",
     "height": 513
    },
    "colab_type": "code",
    "id": "MlJglb9So1-v",
    "outputId": "f4d14fdb-7da5-4c4d-b6a4-e99c2515fae7"
   },
   "outputs": [],
   "source": [
    "plt.figure(figsize=(8,8))\n",
    "g = df[\"Company Name\"].value_counts().nlargest(15).plot(kind='barh')\n",
    "p = plt.title('Top 15 Company Names')\n",
    "p = plt.xlabel('Count')"
   ]
  },
  {
   "cell_type": "code",
   "execution_count": null,
   "metadata": {
    "colab": {
     "base_uri": "https://localhost:8080/",
     "height": 35
    },
    "colab_type": "code",
    "id": "PyRBC1BSQinB",
    "outputId": "91d8e5cc-0c37-4b91-cfc2-c220ba838415"
   },
   "outputs": [],
   "source": [
    "# Creating a column 'job_state'\n",
    "df['job_location'] = df['Location'].apply(lambda x: x if ',' not in x else x.split(',')[1].strip())\n",
    "print('Total number of unique locations: {}'.format(len(df['job_location'].unique())))"
   ]
  },
  {
   "cell_type": "code",
   "execution_count": null,
   "metadata": {
    "colab": {
     "base_uri": "https://localhost:8080/",
     "height": 513
    },
    "colab_type": "code",
    "id": "T_5lfhsapZ6O",
    "outputId": "fbfbf9e0-e512-4321-a265-cbe534685da3"
   },
   "outputs": [],
   "source": [
    "plt.figure(figsize=(8,8))\n",
    "g = df[\"job_location\"].value_counts().nlargest(15).plot(kind='barh')\n",
    "p = plt.title('Top 15 Job Locations')\n",
    "p = plt.xlabel('Count')"
   ]
  },
  {
   "cell_type": "code",
   "execution_count": null,
   "metadata": {
    "colab": {
     "base_uri": "https://localhost:8080/",
     "height": 202
    },
    "colab_type": "code",
    "id": "cO2lZa-jMGHI",
    "outputId": "679833b3-72d2-4806-8d5c-6f419d7ee9c2"
   },
   "outputs": [],
   "source": [
    "df['Size'].value_counts()"
   ]
  },
  {
   "cell_type": "code",
   "execution_count": null,
   "metadata": {
    "colab": {},
    "colab_type": "code",
    "id": "c023UlkuMGHS"
   },
   "outputs": [],
   "source": [
    "# Cleaning 'Size' column\n",
    "def size_simplifier(text):\n",
    "  if '-1' in text.lower():\n",
    "    return 'Unknown'\n",
    "  else:\n",
    "    return text\n",
    "\n",
    "df['Size'] = df['Size'].apply(size_simplifier)"
   ]
  },
  {
   "cell_type": "code",
   "execution_count": null,
   "metadata": {
    "colab": {
     "base_uri": "https://localhost:8080/",
     "height": 602
    },
    "colab_type": "code",
    "id": "ck-Frg7MMGHW",
    "outputId": "fd9a4221-2d8a-43f7-8d5f-6ee5595a5ade"
   },
   "outputs": [],
   "source": [
    "plt.figure(figsize=(8,8))\n",
    "g = sns.countplot(x='Size', data=df, order = df['Size'].value_counts().index)\n",
    "p = plt.title('Count plot for Company Size')\n",
    "p = plt.xlabel('Company Size')\n",
    "p = plt.ylabel('Count')\n",
    "p = g.set_xticklabels(g.get_xticklabels(), rotation=45, horizontalalignment='right')"
   ]
  },
  {
   "cell_type": "code",
   "execution_count": null,
   "metadata": {
    "colab": {
     "base_uri": "https://localhost:8080/",
     "height": 276
    },
    "colab_type": "code",
    "id": "QTosIs1k6wQY",
    "outputId": "9ffad959-683f-46b9-d897-2775446a170f"
   },
   "outputs": [],
   "source": [
    "# Cleaning 'Type of Ownership' column\n",
    "df['Type of ownership'].value_counts()"
   ]
  },
  {
   "cell_type": "code",
   "execution_count": null,
   "metadata": {
    "colab": {},
    "colab_type": "code",
    "id": "FbN3C0607Fv_"
   },
   "outputs": [],
   "source": [
    "def ownership_simplifier(text):\n",
    "    if 'private' in text.lower():\n",
    "      return 'Private'\n",
    "    elif 'public' in text.lower():\n",
    "      return 'Public'\n",
    "    elif ('-1' in text.lower()) or ('unknown' in text.lower()) or ('school / school district' in text.lower()) or ('private practice / firm' in text.lower()) or ('contract' in text.lower()) :\n",
    "      return 'Other Organization'\n",
    "    else:\n",
    "      return text\n",
    "\n",
    "df['Type of ownership'] = df['Type of ownership'].apply(ownership_simplifier)"
   ]
  },
  {
   "cell_type": "code",
   "execution_count": null,
   "metadata": {
    "colab": {
     "base_uri": "https://localhost:8080/",
     "height": 624
    },
    "colab_type": "code",
    "id": "IlZ9nuth8NVA",
    "outputId": "86b26954-fa04-4acc-c763-1859b5ee2335"
   },
   "outputs": [],
   "source": [
    "plt.figure(figsize=(8,8))\n",
    "g = sns.countplot(x='Type of ownership', data=df, order = df['Type of ownership'].value_counts().index)\n",
    "p = plt.title('Count plot for Type of ownership')\n",
    "p = plt.xlabel('Type of ownership')\n",
    "p = plt.ylabel('Count')\n",
    "p = g.set_xticklabels(g.get_xticklabels(), rotation=45, horizontalalignment='right')"
   ]
  },
  {
   "cell_type": "code",
   "execution_count": null,
   "metadata": {
    "colab": {
     "base_uri": "https://localhost:8080/",
     "height": 239
    },
    "colab_type": "code",
    "id": "mpW9QlT4VTnw",
    "outputId": "be92fb95-6d74-4f9c-83a6-355d3ccfd2d4"
   },
   "outputs": [],
   "source": [
    "# Cleaning 'Industry' column\n",
    "df['Industry'].value_counts()"
   ]
  },
  {
   "cell_type": "code",
   "execution_count": null,
   "metadata": {
    "colab": {},
    "colab_type": "code",
    "id": "ZWV_kX0ekFS_"
   },
   "outputs": [],
   "source": [
    "df['Industry'] = df['Industry'].apply(lambda x: 'Others' if x=='-1' else x)"
   ]
  },
  {
   "cell_type": "code",
   "execution_count": null,
   "metadata": {
    "colab": {
     "base_uri": "https://localhost:8080/",
     "height": 653
    },
    "colab_type": "code",
    "id": "jsbYxCyFVlcM",
    "outputId": "74a55b56-1d10-4c1b-f583-e74c3f876f81"
   },
   "outputs": [],
   "source": [
    "plt.figure(figsize=(8,8))\n",
    "g = sns.countplot(x='Industry', data=df, order = df['Industry'].value_counts()[:20].index)\n",
    "p = plt.title('Count plot for Industry (Top 20)')\n",
    "p = plt.xlabel('Industry')\n",
    "p = plt.ylabel('Count')\n",
    "p = g.set_xticklabels(g.get_xticklabels(), rotation=45, horizontalalignment='right')"
   ]
  },
  {
   "cell_type": "code",
   "execution_count": null,
   "metadata": {
    "colab": {
     "base_uri": "https://localhost:8080/",
     "height": 498
    },
    "colab_type": "code",
    "id": "Jqlg7QnPk8pO",
    "outputId": "87372d91-bff2-404f-d0f4-3e44a61f0781"
   },
   "outputs": [],
   "source": [
    "# Cleaning 'Sector' column\n",
    "df['Sector'].value_counts()"
   ]
  },
  {
   "cell_type": "code",
   "execution_count": null,
   "metadata": {
    "colab": {},
    "colab_type": "code",
    "id": "JT9aY5vDlG5N"
   },
   "outputs": [],
   "source": [
    "df['Sector'] = df['Sector'].apply(lambda x: 'Others' if x=='-1' else x)"
   ]
  },
  {
   "cell_type": "code",
   "execution_count": null,
   "metadata": {
    "colab": {
     "base_uri": "https://localhost:8080/",
     "height": 637
    },
    "colab_type": "code",
    "id": "_j9j7wZ9lMNt",
    "outputId": "3c6d0074-8c58-4a96-ee4c-f631d8362da4"
   },
   "outputs": [],
   "source": [
    "plt.figure(figsize=(8,8))\n",
    "g = sns.countplot(x='Sector', data=df, order = df['Sector'].value_counts()[:20].index)\n",
    "p = plt.title('Count plot for Sector (Top 20)')\n",
    "p = plt.xlabel('Sector')\n",
    "p = plt.ylabel('Count')\n",
    "p = g.set_xticklabels(g.get_xticklabels(), rotation=45, horizontalalignment='right')"
   ]
  },
  {
   "cell_type": "code",
   "execution_count": null,
   "metadata": {
    "colab": {
     "base_uri": "https://localhost:8080/",
     "height": 294
    },
    "colab_type": "code",
    "id": "yuq2l4Jf89r-",
    "outputId": "eb7aba18-fe23-452e-b01c-58c5c7d73fb7"
   },
   "outputs": [],
   "source": [
    "# Cleaning 'Revenue' column\n",
    "df['Revenue'].value_counts()"
   ]
  },
  {
   "cell_type": "code",
   "execution_count": null,
   "metadata": {
    "colab": {},
    "colab_type": "code",
    "id": "3uco0sHt9Rxv"
   },
   "outputs": [],
   "source": [
    "def revenue_simplifier(text):\n",
    "  if '-1' in text.lower():\n",
    "    return 'Unknown / Non-Applicable'\n",
    "  else:\n",
    "    return text\n",
    "\n",
    "df['Revenue'] = df['Revenue'].apply(revenue_simplifier)"
   ]
  },
  {
   "cell_type": "code",
   "execution_count": null,
   "metadata": {
    "colab": {
     "base_uri": "https://localhost:8080/",
     "height": 608
    },
    "colab_type": "code",
    "id": "NdgFAaJX93pa",
    "outputId": "0ae97519-29ba-42f1-ff0f-ee1fefa32e3f"
   },
   "outputs": [],
   "source": [
    "plt.figure(figsize=(8,8))\n",
    "g = sns.countplot(x='Revenue', data=df, order = df['Revenue'].value_counts().index)\n",
    "p = plt.title('Count plot for Revenue')\n",
    "p = plt.xlabel('Revenue')\n",
    "p = plt.ylabel('Count')\n",
    "p = g.set_xticklabels(g.get_xticklabels(), rotation=45, horizontalalignment='right')"
   ]
  },
  {
   "cell_type": "code",
   "execution_count": null,
   "metadata": {
    "colab": {
     "base_uri": "https://localhost:8080/",
     "height": 239
    },
    "colab_type": "code",
    "id": "xARrDWgemM5-",
    "outputId": "800c4b84-eb95-4a57-826e-e05bf28c09da"
   },
   "outputs": [],
   "source": [
    "# Cleaning 'Competitors' column\n",
    "df['Competitors']"
   ]
  },
  {
   "cell_type": "code",
   "execution_count": null,
   "metadata": {
    "colab": {},
    "colab_type": "code",
    "id": "riQKJTzPyQLs"
   },
   "outputs": [],
   "source": [
    "df['Competitors'] = df['Competitors'].apply(lambda x: len(x.split(',')) if x != '-1' else 0)"
   ]
  },
  {
   "cell_type": "code",
   "execution_count": null,
   "metadata": {
    "colab": {
     "base_uri": "https://localhost:8080/",
     "height": 513
    },
    "colab_type": "code",
    "id": "Nd2DzxgvmXrF",
    "outputId": "21a1cba5-1c46-438b-ec97-d5844f50d7a6"
   },
   "outputs": [],
   "source": [
    "plt.figure(figsize=(8,8))\n",
    "g = sns.countplot(x='Competitors', data=df, order = df['Competitors'].value_counts().index)\n",
    "p = plt.title('Count plot for Competitors')\n",
    "p = plt.xlabel(\"Competitor's count\")\n",
    "p = plt.ylabel('Count')"
   ]
  },
  {
   "cell_type": "code",
   "execution_count": null,
   "metadata": {
    "colab": {
     "base_uri": "https://localhost:8080/",
     "height": 469
    },
    "colab_type": "code",
    "id": "5Ph_Z1nG6PIF",
    "outputId": "3f123c3b-b395-4a76-c08b-c54f67bb4453"
   },
   "outputs": [],
   "source": [
    "# Dataset till now\n",
    "df.tail()"
   ]
  },
  {
   "cell_type": "code",
   "execution_count": null,
   "metadata": {
    "colab": {
     "base_uri": "https://localhost:8080/",
     "height": 421
    },
    "colab_type": "code",
    "id": "-JwQCzMN-dO0",
    "outputId": "6a9e1397-5098-4a13-96ca-88f5bf731d9c"
   },
   "outputs": [],
   "source": [
    "# Finding and plotting the correlation between numerical features\n",
    "\n",
    "cmap = sns.diverging_palette(220, 10, as_cmap=True)\n",
    "plt.figure(figsize=(8,8))\n",
    "corr = df[['Rating','Founded','Salary']].corr()\n",
    "\n",
    "# Generate a mask for the upper triangle\n",
    "mask = np.triu(np.ones_like(corr, dtype=np.bool))\n",
    "\n",
    "g = sns.heatmap(corr, mask=mask, vmax=0.3, center=0, cmap=cmap, square=True, annot=True, linewidths=0.05, cbar_kws={\"shrink\": .5})\n",
    "p = plt.title('Correlation matrix for Rating, Founded, and Salary columns')"
   ]
  },
  {
   "cell_type": "markdown",
   "metadata": {
    "colab_type": "text",
    "id": "w1ztXGfpepIR"
   },
   "source": [
    "_**Insight:** Rating-Founded columns have **positive correlation**, whereas Salary-Founded columns have **negative correlation**. Also since the correlation is not high amongst all these numerical features, there is **no case of multicolliniearity.**_"
   ]
  },
  {
   "cell_type": "markdown",
   "metadata": {
    "colab_type": "text",
    "id": "xKwvJbVzM3CO"
   },
   "source": [
    "# **Feature Engineering**\n",
    "* Creating new features from existing features\n",
    "* Trimming Columns\n",
    "* Handling ordinal and nominal categorical features\n",
    "* Feature Selection\n"
   ]
  },
  {
   "cell_type": "markdown",
   "metadata": {
    "colab_type": "text",
    "id": "39cBQTZAvsiT"
   },
   "source": [
    "**Creating new features from existing features**\n",
    "* Adding column of _job_in_headquarters_\n",
    "* Adding columns of _python, excel, sql, tableau jobs_\n",
    "\n",
    "\n",
    "\n"
   ]
  },
  {
   "cell_type": "code",
   "execution_count": null,
   "metadata": {
    "colab": {},
    "colab_type": "code",
    "id": "qWOQUIeXFuvA"
   },
   "outputs": [],
   "source": [
    "# Creating column of 'job_in_headquarters'\n",
    "df['job_in_headquarters'] = df.apply(lambda x: 1 if x['Location'] == x['Headquarters'] else 0, axis=1)"
   ]
  },
  {
   "cell_type": "code",
   "execution_count": null,
   "metadata": {
    "colab": {
     "base_uri": "https://localhost:8080/",
     "height": 351
    },
    "colab_type": "code",
    "id": "siVV2346o-tY",
    "outputId": "95fcbd90-470d-493a-f5e6-a1712d77ba57"
   },
   "outputs": [],
   "source": [
    "plt.figure(figsize=(5,5))\n",
    "g = sns.countplot(x='job_in_headquarters', data=df)\n",
    "p = plt.title('Count plot for Job_in_headquarters')\n",
    "p = plt.xlabel(\"Is Job_in_headquarters?\")\n",
    "p = plt.ylabel('Count')"
   ]
  },
  {
   "cell_type": "code",
   "execution_count": null,
   "metadata": {
    "colab": {},
    "colab_type": "code",
    "id": "8FN_oXqSopei"
   },
   "outputs": [],
   "source": [
    "df.drop(labels=['Location'], axis=1, inplace=True)"
   ]
  },
  {
   "cell_type": "code",
   "execution_count": null,
   "metadata": {
    "colab": {},
    "colab_type": "code",
    "id": "uUBQVo03TKVL"
   },
   "outputs": [],
   "source": [
    "# Creating columns of 'python, excel, sql, tableau' jobs\n",
    "df['python_job'] = df['Job Description'].apply(lambda x: 1 if 'python' in x.lower() else 0)\n",
    "df['excel_job'] = df['Job Description'].apply(lambda x: 1 if 'excel' in x.lower() else 0)\n",
    "df['sql_job'] = df['Job Description'].apply(lambda x: 1 if 'sql' in x.lower() else 0)\n",
    "df['tableau_job'] = df['Job Description'].apply(lambda x: 1 if 'tableau' in x.lower() else 0)"
   ]
  },
  {
   "cell_type": "code",
   "execution_count": null,
   "metadata": {
    "colab": {
     "base_uri": "https://localhost:8080/",
     "height": 350
    },
    "colab_type": "code",
    "id": "wmVnoGlmp8Ij",
    "outputId": "7c072817-fee1-412e-e9e7-98198acb0238"
   },
   "outputs": [],
   "source": [
    "plt.figure(figsize=(5,5))\n",
    "g = sns.countplot(x='python_job', data=df)\n",
    "p = plt.title('Count plot for Python jobs')\n",
    "p = plt.xlabel(\"Is Python job?\")\n",
    "p = plt.ylabel('Count')"
   ]
  },
  {
   "cell_type": "code",
   "execution_count": null,
   "metadata": {
    "colab": {
     "base_uri": "https://localhost:8080/",
     "height": 350
    },
    "colab_type": "code",
    "id": "ffrUY5S7p8sl",
    "outputId": "12f1ad1d-570a-4f90-ce0c-b1a65bd2484a"
   },
   "outputs": [],
   "source": [
    "plt.figure(figsize=(5,5))\n",
    "g = sns.countplot(x='excel_job', data=df)\n",
    "p = plt.title('Count plot for Excel jobs')\n",
    "p = plt.xlabel(\"Is Excel job?\")\n",
    "p = plt.ylabel('Count')"
   ]
  },
  {
   "cell_type": "code",
   "execution_count": null,
   "metadata": {
    "colab": {
     "base_uri": "https://localhost:8080/",
     "height": 350
    },
    "colab_type": "code",
    "id": "XEU5Utj8p8WW",
    "outputId": "ec449e99-20eb-4d54-e22e-4addcbee803c"
   },
   "outputs": [],
   "source": [
    "plt.figure(figsize=(5,5))\n",
    "g = sns.countplot(x='sql_job', data=df)\n",
    "p = plt.title('Count plot for SQL jobs')\n",
    "p = plt.xlabel(\"Is SQL job?\")\n",
    "p = plt.ylabel('Count')"
   ]
  },
  {
   "cell_type": "code",
   "execution_count": null,
   "metadata": {
    "colab": {
     "base_uri": "https://localhost:8080/",
     "height": 350
    },
    "colab_type": "code",
    "id": "5DH-2grjp76k",
    "outputId": "dc7704cc-723f-475b-9283-583b01c08d69"
   },
   "outputs": [],
   "source": [
    "plt.figure(figsize=(5,5))\n",
    "g = sns.countplot(x='tableau_job', data=df)\n",
    "p = plt.title('Count plot for Tableau jobs')\n",
    "p = plt.xlabel(\"Is Tableau job?\")\n",
    "p = plt.ylabel('Count')"
   ]
  },
  {
   "cell_type": "code",
   "execution_count": null,
   "metadata": {
    "colab": {},
    "colab_type": "code",
    "id": "011nFk-2qthw"
   },
   "outputs": [],
   "source": [
    "df.drop(labels=['Job Description'], axis=1, inplace=True)"
   ]
  },
  {
   "cell_type": "markdown",
   "metadata": {
    "colab_type": "text",
    "id": "ECj8obFFJhbn"
   },
   "source": [
    "**• Trimming Columns**<br/>\n",
    "_Features having more than 10 categories are trimmed so as to **reduce the dimensionality.**_"
   ]
  },
  {
   "cell_type": "code",
   "execution_count": null,
   "metadata": {
    "colab": {},
    "colab_type": "code",
    "id": "Yaj7wYQ-B6zd"
   },
   "outputs": [],
   "source": [
    "# Trimming the 'Sector' column\n",
    "\n",
    "# Taking top 9 Sector and replacing remaining by 'Others'\n",
    "sector_list = list(df['Sector'].value_counts()[:10].index)\n",
    "\n",
    "def sector_simplifier(text):\n",
    "  if text not in sector_list:\n",
    "    return 'Others'\n",
    "  else:\n",
    "    return text\n",
    "\n",
    "df['Sector'] = df['Sector'].apply(sector_simplifier)"
   ]
  },
  {
   "cell_type": "code",
   "execution_count": null,
   "metadata": {
    "colab": {
     "base_uri": "https://localhost:8080/",
     "height": 605
    },
    "colab_type": "code",
    "id": "ohS-JZK0sPhQ",
    "outputId": "763ff4e0-f22d-453b-ac84-846740742001"
   },
   "outputs": [],
   "source": [
    "plt.figure(figsize=(8,8))\n",
    "g = sns.countplot(x='Sector', data=df, order = df['Sector'].value_counts().index)\n",
    "p = plt.title('Final countplot for Sector')\n",
    "p = plt.xlabel('Sector')\n",
    "p = plt.ylabel('Count')\n",
    "p = g.set_xticklabels(g.get_xticklabels(), rotation=45, horizontalalignment='right')"
   ]
  },
  {
   "cell_type": "code",
   "execution_count": null,
   "metadata": {
    "colab": {},
    "colab_type": "code",
    "id": "Jyy8ZntRFiog"
   },
   "outputs": [],
   "source": [
    "# Trimming the 'job_location' column\n",
    "\n",
    "# Taking top 9 States and replacing others by 'Others'\n",
    "job_location_list = list(df['job_location'].value_counts()[:9].index)\n",
    "\n",
    "def job_location_simplifier(text):\n",
    "  if text not in job_location_list:\n",
    "    return 'Others'\n",
    "  else:\n",
    "    return text\n",
    "\n",
    "df['job_location'] = df['job_location'].apply(job_location_simplifier)"
   ]
  },
  {
   "cell_type": "code",
   "execution_count": null,
   "metadata": {
    "colab": {
     "base_uri": "https://localhost:8080/",
     "height": 513
    },
    "colab_type": "code",
    "id": "K4rRsh6Kxc2U",
    "outputId": "72768597-e9af-4590-e9f8-c8f187f96907"
   },
   "outputs": [],
   "source": [
    "plt.figure(figsize=(8,8))\n",
    "g = sns.countplot(x='job_location', data=df, order = df['job_location'].value_counts().index)\n",
    "p = plt.title('Final countplot for Job Location')\n",
    "p = plt.xlabel('Job Location')\n",
    "p = plt.ylabel('Count')"
   ]
  },
  {
   "cell_type": "code",
   "execution_count": null,
   "metadata": {
    "colab": {},
    "colab_type": "code",
    "id": "2rRvdck20cCp"
   },
   "outputs": [],
   "source": [
    "df.drop(labels=['Salary Estimate', 'Company Name', 'Headquarters', 'Industry', 'job_location'], axis=1, inplace=True)"
   ]
  },
  {
   "cell_type": "code",
   "execution_count": null,
   "metadata": {
    "colab": {
     "base_uri": "https://localhost:8080/",
     "height": 109
    },
    "colab_type": "code",
    "id": "yH9r2LJTLI5U",
    "outputId": "aeba423f-ca22-4daf-dede-495cfb52113d"
   },
   "outputs": [],
   "source": [
    "df.columns"
   ]
  },
  {
   "cell_type": "code",
   "execution_count": null,
   "metadata": {
    "colab": {},
    "colab_type": "code",
    "id": "WDDjqtC9MWEk"
   },
   "outputs": [],
   "source": [
    "# Renaming columns\n",
    "df.rename(columns={'Rating':'company_rating', 'Size':'company_size', 'Founded':'company_founded', 'Type of ownership':'type_of_ownership',\n",
    "                   'Sector':'sector', 'Revenue':'revenue', 'Competitors':'competitors', 'Salary': 'salary'}, inplace=True)"
   ]
  },
  {
   "cell_type": "markdown",
   "metadata": {
    "colab_type": "text",
    "id": "JUzsDOCBJN7K"
   },
   "source": [
    "**• Handling ordinal categorical features**<br/>\n",
    "_Ordinal features are **categorical variables that have some order associated with them** (e.g. size, rating, remark, etc.)_"
   ]
  },
  {
   "cell_type": "code",
   "execution_count": null,
   "metadata": {
    "colab": {},
    "colab_type": "code",
    "id": "QVj7td9_OBRU"
   },
   "outputs": [],
   "source": [
    "# Mapping ranks to 'company_size' column\n",
    "size_map = {'Unknown': 0, '1 to 50 employees': 1, '51 to 200 employees': 2, '201 to 500 employees': 3,\n",
    "            '501 to 1000 employees': 4, '1001 to 5000 employees': 5, '5001 to 10000 employees': 6, '10000+ employees': 7}\n",
    "\n",
    "df['company_size'] = df['company_size'].map(size_map)"
   ]
  },
  {
   "cell_type": "code",
   "execution_count": null,
   "metadata": {
    "colab": {},
    "colab_type": "code",
    "id": "cR-JYSDDVfb5"
   },
   "outputs": [],
   "source": [
    "# Mapping ranks to 'revenue\t' column\n",
    "revenue_map = {'Unknown / Non-Applicable': 0, 'Less than $1 million (USD)': 1, '$1 to $5 million (USD)': 2, '$5 to $10 million (USD)': 3,\n",
    "            '$10 to $25 million (USD)': 4, '$25 to $50 million (USD)': 5, '$50 to $100 million (USD)': 6, '$100 to $500 million (USD)': 7,\n",
    "            '$500 million to $1 billion (USD)': 8, '$1 to $2 billion (USD)': 9, '$2 to $5 billion (USD)':10, '$5 to $10 billion (USD)':11,\n",
    "            '$10+ billion (USD)':12}\n",
    "\n",
    "df['revenue'] = df['revenue'].map(revenue_map)"
   ]
  },
  {
   "cell_type": "code",
   "execution_count": null,
   "metadata": {
    "colab": {},
    "colab_type": "code",
    "id": "bm0DfReAHx0X"
   },
   "outputs": [],
   "source": [
    "# Mapping ranks to 'job_seniority\t' column\n",
    "job_seniority_map = {'other': 0, 'jr': 1, 'sr': 2}\n",
    "\n",
    "df['job_seniority'] = df['job_seniority'].map(job_seniority_map)"
   ]
  },
  {
   "cell_type": "markdown",
   "metadata": {
    "colab_type": "text",
    "id": "k1ChV609JcTw"
   },
   "source": [
    "**• Handling nominal categorical features**<br/>\n",
    "_Nominal features are **categorical variables that have no numerical importance** (e.g. occupation, name, etc.)_"
   ]
  },
  {
   "cell_type": "code",
   "execution_count": null,
   "metadata": {
    "colab": {
     "base_uri": "https://localhost:8080/",
     "height": 54
    },
    "colab_type": "code",
    "id": "D-xrr1-VR3Hc",
    "outputId": "e68a750e-7460-492c-91b3-28dc9f90f3f3"
   },
   "outputs": [],
   "source": [
    "# Removing 'type_of_ownership' column using get_dummies()\n",
    "print('Before: {}'.format(df.shape))\n",
    "df = pd.get_dummies(columns=['type_of_ownership'], data=df, prefix='ownership')\n",
    "print('After: {}'.format(df.shape))"
   ]
  },
  {
   "cell_type": "code",
   "execution_count": null,
   "metadata": {
    "colab": {
     "base_uri": "https://localhost:8080/",
     "height": 54
    },
    "colab_type": "code",
    "id": "2e5lQ22LDrHe",
    "outputId": "a039df3e-034a-4be0-89c6-6065d4c9f237"
   },
   "outputs": [],
   "source": [
    "# Removing 'sector' column using get_dummies()\n",
    "print('Before: {}'.format(df.shape))\n",
    "df = pd.get_dummies(columns=['sector'], data=df)\n",
    "print('After: {}'.format(df.shape))"
   ]
  },
  {
   "cell_type": "code",
   "execution_count": null,
   "metadata": {
    "colab": {
     "base_uri": "https://localhost:8080/",
     "height": 54
    },
    "colab_type": "code",
    "id": "hjw7yrtcEmap",
    "outputId": "1fa52775-8741-4c1a-9d58-b57b867c519f"
   },
   "outputs": [],
   "source": [
    "# Removing 'job_title' column using get_dummies()\n",
    "print('Before: {}'.format(df.shape))\n",
    "df = pd.get_dummies(columns=['job_title'], data=df)\n",
    "print('After: {}'.format(df.shape))"
   ]
  },
  {
   "cell_type": "code",
   "execution_count": null,
   "metadata": {
    "colab": {},
    "colab_type": "code",
    "id": "1xMKwCHL5Ew2"
   },
   "outputs": [],
   "source": [
    "# Removing 'others' column to reduce dimentionality and avoid dummy variable trap\n",
    "df.drop(labels=['ownership_Other Organization', 'sector_Others', 'job_title_other'], axis=1, inplace=True)"
   ]
  },
  {
   "cell_type": "markdown",
   "metadata": {
    "colab_type": "text",
    "id": "hkNAhIETbUW2"
   },
   "source": [
    "**• Feature Selection**<br/>\n",
    "_Selecting features based on **information gain (mutual_info_regression) and correlation matrix**_"
   ]
  },
  {
   "cell_type": "code",
   "execution_count": null,
   "metadata": {
    "colab": {},
    "colab_type": "code",
    "id": "urOawWjUvDQg"
   },
   "outputs": [],
   "source": [
    "X = df.drop('salary', axis=1)\n",
    "y = df['salary']"
   ]
  },
  {
   "cell_type": "code",
   "execution_count": null,
   "metadata": {
    "colab": {},
    "colab_type": "code",
    "id": "1Ivj-WIsbTWP"
   },
   "outputs": [],
   "source": [
    "from sklearn.feature_selection import SelectKBest\n",
    "from sklearn.feature_selection import mutual_info_regression"
   ]
  },
  {
   "cell_type": "code",
   "execution_count": null,
   "metadata": {
    "colab": {
     "base_uri": "https://localhost:8080/",
     "height": 54
    },
    "colab_type": "code",
    "id": "SdI4ggT7djf3",
    "outputId": "5fafeb36-b4c7-4eeb-b82f-1487072f3984"
   },
   "outputs": [],
   "source": [
    "fs = SelectKBest(score_func=mutual_info_regression, k='all')\n",
    "fs.fit(X, y)"
   ]
  },
  {
   "cell_type": "code",
   "execution_count": null,
   "metadata": {
    "colab": {
     "base_uri": "https://localhost:8080/",
     "height": 773
    },
    "colab_type": "code",
    "id": "gqFwCQmGkXn6",
    "outputId": "6c5fd0a8-facd-4a6c-80c0-21ddaf821ac9"
   },
   "outputs": [],
   "source": [
    "plt.figure(figsize=(10,10))\n",
    "g = sns.barplot(x=X.columns, y=fs.scores_)\n",
    "p = plt.title('Mutual Information Gain plot')\n",
    "p = plt.xlabel('Feature name')\n",
    "p = plt.ylabel('Information Gain')\n",
    "p = g.set_xticklabels(g.get_xticklabels(), rotation=45, horizontalalignment='right')"
   ]
  },
  {
   "cell_type": "markdown",
   "metadata": {
    "colab_type": "text",
    "id": "2K3aDaLamsqR"
   },
   "source": [
    "_**Insight:** From feature importance chart, it is evident that there are **atleast 20 features that impact the target variable.**_"
   ]
  },
  {
   "cell_type": "code",
   "execution_count": null,
   "metadata": {
    "colab": {
     "base_uri": "https://localhost:8080/",
     "height": 631
    },
    "colab_type": "code",
    "id": "rbVQUPKVo6rn",
    "outputId": "12f581c2-545b-4b8d-9964-d2fa0996d37b"
   },
   "outputs": [],
   "source": [
    "feature_imp = pd.DataFrame(fs.scores_, columns=['Score'], index=X.columns)\n",
    "top20_feature = feature_imp.nlargest(n=20, columns=['Score'])\n",
    "\n",
    "plt.figure(figsize=(8,8))\n",
    "g = sns.barplot(x=top20_feature.index, y=top20_feature['Score'])\n",
    "p = plt.title('Top 20 Features with mutual information gain')\n",
    "p = plt.xlabel('Feature name')\n",
    "p = plt.ylabel('Information Gain')\n",
    "p = g.set_xticklabels(g.get_xticklabels(), rotation=45, horizontalalignment='right')"
   ]
  },
  {
   "cell_type": "code",
   "execution_count": null,
   "metadata": {
    "colab": {
     "base_uri": "https://localhost:8080/",
     "height": 951
    },
    "colab_type": "code",
    "id": "NC77dCqoBOkC",
    "outputId": "8792bc1c-c18e-4d93-d795-fd1523f44e9e"
   },
   "outputs": [],
   "source": [
    "# Finding and plotting the correlation matrix for top20 features\n",
    "\n",
    "cmap = sns.diverging_palette(220, 10, as_cmap=True)\n",
    "plt.figure(figsize=(15, 15))\n",
    "corr = X[top20_feature.index].corr()\n",
    "\n",
    "# Generate a mask for the upper triangle\n",
    "mask = np.triu(np.ones_like(corr, dtype=np.bool))\n",
    "\n",
    "g = sns.heatmap(corr, annot=True, mask=mask, vmax=0.3, center=0, cmap=cmap, square=True, linewidths=0.05)\n",
    "p = plt.title('Correlation matrix')"
   ]
  },
  {
   "cell_type": "markdown",
   "metadata": {
    "colab_type": "text",
    "id": "vXFAoxJATBHk"
   },
   "source": [
    "_Range of correlation are as follows:_\n",
    "* **Strong correlation: X > 0.7**\n",
    "* **Moderate correlation: 0.5 < X < 0.7**\n",
    "* **Weak correlation: X < 0.5**\n",
    "<br/><br/>\n",
    "\n",
    "**Insight:** From the correlation matrix, it is evident that features **(ownership_Public, ownership_Private), (company_size, company_founded), (job_title_data engineer, job_title_data scientist) and (company_founded, revenue) are moderately correlated.** Hence, dropping 'Revenue', 'ownership_Public', 'job_title_data engineer' and 'company_size' features."
   ]
  },
  {
   "cell_type": "code",
   "execution_count": null,
   "metadata": {
    "colab": {},
    "colab_type": "code",
    "id": "HKvfjrZLk5R5"
   },
   "outputs": [],
   "source": [
    "X = X[top20_feature.index]\n",
    "X.drop(labels=['ownership_Public', 'company_size', 'revenue', 'job_title_data engineer'], axis=1, inplace=True)"
   ]
  },
  {
   "cell_type": "code",
   "execution_count": null,
   "metadata": {
    "colab": {
     "base_uri": "https://localhost:8080/",
     "height": 955
    },
    "colab_type": "code",
    "id": "-UO6ZL-vGZrf",
    "outputId": "bf74e495-4196-4df1-bb72-3e2f5539f088"
   },
   "outputs": [],
   "source": [
    "# Finding and plotting the correlation matrix for top 18 features\n",
    "\n",
    "cmap = sns.diverging_palette(220, 10, as_cmap=True)\n",
    "plt.figure(figsize=(15, 15))\n",
    "corr = X.corr()\n",
    "\n",
    "# Generate a mask for the upper triangle\n",
    "mask = np.triu(np.ones_like(corr, dtype=np.bool))\n",
    "\n",
    "g = sns.heatmap(corr, annot=True, mask=mask, vmax=0.3, center=0, cmap=cmap, square=True, linewidths=0.05)\n",
    "p = plt.title('Correlation matrix after removing highly correlated features')"
   ]
  },
  {
   "cell_type": "code",
   "execution_count": null,
   "metadata": {
    "colab": {
     "base_uri": "https://localhost:8080/",
     "height": 146
    },
    "colab_type": "code",
    "id": "D4i3mgyQtD_Q",
    "outputId": "036be254-212a-43f9-8106-dd7a33809def"
   },
   "outputs": [],
   "source": [
    "X.columns"
   ]
  },
  {
   "cell_type": "code",
   "execution_count": null,
   "metadata": {
    "colab": {},
    "colab_type": "code",
    "id": "spHq1m9m9xUj"
   },
   "outputs": [],
   "source": [
    "# Rearranging the columns\n",
    "\n",
    "X = X[['company_rating', 'company_founded', 'job_title_data analyst',\n",
    "       'python_job', 'job_title_data scientist', 'competitors', 'excel_job',\n",
    "       'job_seniority', 'sector_Biotech & Pharmaceuticals',\n",
    "       'ownership_Private', 'tableau_job', 'job_in_headquarters', 'sql_job',\n",
    "       'sector_Information Technology', 'sector_Health Care',\n",
    "       'ownership_Nonprofit Organization']]"
   ]
  },
  {
   "cell_type": "markdown",
   "metadata": {
    "colab_type": "text",
    "id": "U5BnIsyScRGE"
   },
   "source": [
    "**Feature Scaling**<br/>\n",
    "Scaling features using **StandardScaler library**"
   ]
  },
  {
   "cell_type": "code",
   "execution_count": null,
   "metadata": {
    "colab": {
     "base_uri": "https://localhost:8080/",
     "height": 261
    },
    "colab_type": "code",
    "id": "bhUivet8UNeN",
    "outputId": "186447d5-3095-433d-9bd0-c08c985cb1ea"
   },
   "outputs": [],
   "source": [
    "X.head()"
   ]
  },
  {
   "cell_type": "code",
   "execution_count": null,
   "metadata": {
    "colab": {},
    "colab_type": "code",
    "id": "FoQFNYKVXxpD"
   },
   "outputs": [],
   "source": [
    "from sklearn.preprocessing import StandardScaler\n",
    "X_prev = X.copy()\n",
    "\n",
    "sc_rating = StandardScaler()\n",
    "X['company_rating'] = sc_rating.fit_transform(X[['company_rating']])\n",
    "\n",
    "sc_founded = StandardScaler()\n",
    "X['company_founded'] = sc_founded.fit_transform(X[['company_founded']])"
   ]
  },
  {
   "cell_type": "code",
   "execution_count": null,
   "metadata": {
    "colab": {
     "base_uri": "https://localhost:8080/",
     "height": 297
    },
    "colab_type": "code",
    "id": "U-O9e3d7UghL",
    "outputId": "860b5c35-b8c8-4ba6-efd7-4c04f13d786a"
   },
   "outputs": [],
   "source": [
    "# Plotting company_rating before & after feature scaling\n",
    "plt.figure(figsize=(8, 4))\n",
    "\n",
    "# 1-row, 2-column, go to the first subplot\n",
    "plt.subplot(1, 2, 1)\n",
    "g = sns.distplot(a=X_prev['company_rating'])\n",
    "p = plt.title('Before Feature Scaling')\n",
    "\n",
    "# 1-row, 2-column, go to the second subplot\n",
    "plt.subplot(1, 2, 2)\n",
    "g = sns.distplot(a=X['company_rating'])\n",
    "p = plt.title('After Feature Scaling')\n",
    "\n",
    "plt.tight_layout()\n",
    "plt.show()"
   ]
  },
  {
   "cell_type": "markdown",
   "metadata": {
    "colab_type": "text",
    "id": "QsBAHCuXaokz"
   },
   "source": [
    "_**Insight: Feature Scaling doesnot change the distribution of the data**, it only reduces the scale of that particular feature._"
   ]
  },
  {
   "cell_type": "code",
   "execution_count": null,
   "metadata": {
    "colab": {
     "base_uri": "https://localhost:8080/",
     "height": 261
    },
    "colab_type": "code",
    "id": "EwdR6xR2cJNz",
    "outputId": "1f4b2835-1507-4aec-b7ea-d2f6727c88b8"
   },
   "outputs": [],
   "source": [
    "X.head()"
   ]
  },
  {
   "cell_type": "markdown",
   "metadata": {
    "colab_type": "text",
    "id": "3iOKTQ-VTMOw"
   },
   "source": [
    "# **Model Building & Evaluation**\n",
    "_Metric: Negative Root Mean Squared Error (NRMSE)_\n",
    "\n",
    "* Multiple Linear Regression: -27.523 NRMSE\n",
    "* Lasso Regression (L1 Regularization): -27.993 NRMSE\n",
    "* **Random Forest (Ensemble): -17.637 NRMSE**\n",
    "* Gradient Boosting: -24.429 NRMSE\n",
    "* Voting (Random Forest + Gradient Boosting): -19.136 NRMSE\n"
   ]
  },
  {
   "cell_type": "code",
   "execution_count": null,
   "metadata": {
    "colab": {},
    "colab_type": "code",
    "id": "lmmk4jBX-SeO"
   },
   "outputs": [],
   "source": [
    "from sklearn.model_selection import cross_val_score"
   ]
  },
  {
   "cell_type": "code",
   "execution_count": null,
   "metadata": {
    "colab": {
     "base_uri": "https://localhost:8080/",
     "height": 54
    },
    "colab_type": "code",
    "id": "8WeF7z9Qp4hS",
    "outputId": "cf783904-ca7b-4a3c-c531-e7b8a0aae53d"
   },
   "outputs": [],
   "source": [
    "# Fitting Multiple Linear Regression to the Training set\n",
    "from sklearn.linear_model import LinearRegression\n",
    "lr = LinearRegression()\n",
    "cv = cross_val_score(lr, X, y, cv=10, scoring='neg_root_mean_squared_error')\n",
    "print('--- Average NRMSE: {} ---'.format(round(cv.mean(), 3)))\n",
    "print('Standard Deviation: {}'.format(round(cv.std(), 3)))"
   ]
  },
  {
   "cell_type": "code",
   "execution_count": null,
   "metadata": {
    "colab": {
     "base_uri": "https://localhost:8080/",
     "height": 54
    },
    "colab_type": "code",
    "id": "2h2ichi9tAQw",
    "outputId": "ad12a2d7-82a7-46dd-f64e-6b078388bb8e"
   },
   "outputs": [],
   "source": [
    "# Fitting Lasso Regression to the Training set\n",
    "from sklearn.linear_model import Lasso\n",
    "lasso = Lasso()\n",
    "cv = cross_val_score(lasso, X, y, cv=10, scoring='neg_root_mean_squared_error')\n",
    "print('--- Average NRMSE: {} ---'.format(round(cv.mean(), 3)))\n",
    "print('Standard Deviation: {}'.format(round(cv.std(), 3)))"
   ]
  },
  {
   "cell_type": "code",
   "execution_count": null,
   "metadata": {
    "colab": {
     "base_uri": "https://localhost:8080/",
     "height": 54
    },
    "colab_type": "code",
    "id": "cEAHNY0ttjqZ",
    "outputId": "1eede573-c859-4295-8f79-5db07518bfc3"
   },
   "outputs": [],
   "source": [
    "# Fitting Random Forest to the Training set\n",
    "from sklearn.ensemble import RandomForestRegressor\n",
    "rf = RandomForestRegressor()\n",
    "cv = cross_val_score(rf, X, y, cv=10, scoring='neg_root_mean_squared_error')\n",
    "print('--- Average NRMSE: {} ---'.format(round(cv.mean(), 3)))\n",
    "print('Standard Deviation: {}'.format(round(cv.std(), 3)))"
   ]
  },
  {
   "cell_type": "code",
   "execution_count": null,
   "metadata": {
    "colab": {
     "base_uri": "https://localhost:8080/",
     "height": 54
    },
    "colab_type": "code",
    "id": "I8wvu9RI8Hvb",
    "outputId": "596ee5c6-16a4-4c2d-8857-699a668fa735"
   },
   "outputs": [],
   "source": [
    "# Fitting Gradient Boosting to the Training set\n",
    "from sklearn.ensemble import GradientBoostingRegressor\n",
    "gb = GradientBoostingRegressor()\n",
    "cv = cross_val_score(gb, X, y, cv=10, scoring='neg_root_mean_squared_error')\n",
    "print('--- Average NRMSE: {} ---'.format(round(cv.mean(), 3)))\n",
    "print('Standard Deviation: {}'.format(round(cv.std(), 3)))"
   ]
  },
  {
   "cell_type": "markdown",
   "metadata": {
    "colab_type": "text",
    "id": "nr1PF8G58anL"
   },
   "source": [
    "_**Note: Random Forest & Gradient Boosting algorithms are selected amongst all the other algorithms** because they have the highest value for Negative Root Mean Squared Error (NRMSE) i.e. lowest value for Root Mean Squared Error (RMSE) metric. And **fed to Voting algorithm** to reduce the error!_"
   ]
  },
  {
   "cell_type": "code",
   "execution_count": null,
   "metadata": {
    "colab": {
     "base_uri": "https://localhost:8080/",
     "height": 54
    },
    "colab_type": "code",
    "id": "3AAlQpMxcr3E",
    "outputId": "10c3069d-30ac-4d34-91fc-bf8e8ce207ad"
   },
   "outputs": [],
   "source": [
    "# Fitting Random Forest and Gradient Boosting to Voting Regressor\n",
    "from sklearn.ensemble import VotingRegressor\n",
    "vr = VotingRegressor([('random_forest', rf), ('gradient_boosting', gb)], weights=[2,1])\n",
    "cv = cross_val_score(vr, X, y, cv=10, scoring='neg_root_mean_squared_error')\n",
    "print('--- Average NRMSE: {} ---'.format(round(cv.mean(), 3)))\n",
    "print('Standard Deviation: {}'.format(round(cv.std(), 3)))"
   ]
  },
  {
   "cell_type": "markdown",
   "metadata": {
    "colab_type": "text",
    "id": "9UuZgQyaenuM"
   },
   "source": [
    "_**Note:** Voting algorithm too did not perform well as compared to Random Forest algorithm, hence **Random Forest algorithm is selected for predicting the results of this problem statement.**_"
   ]
  },
  {
   "cell_type": "markdown",
   "metadata": {
    "colab_type": "text",
    "id": "TE-3lUVqACJi"
   },
   "source": [
    "# **Making Predictions**"
   ]
  },
  {
   "cell_type": "code",
   "execution_count": null,
   "metadata": {
    "colab": {
     "base_uri": "https://localhost:8080/",
     "height": 146
    },
    "colab_type": "code",
    "id": "KyrLyBO3eqqU",
    "outputId": "aa264b2e-e12c-4716-df53-3e786b07dade"
   },
   "outputs": [],
   "source": [
    "rf = RandomForestRegressor()\n",
    "rf.fit(X, y)"
   ]
  },
  {
   "cell_type": "code",
   "execution_count": null,
   "metadata": {
    "colab": {},
    "colab_type": "code",
    "id": "P9IVt5iu_o8T"
   },
   "outputs": [],
   "source": [
    "def predict_salary(rating, founded, competitors, sector, ownership, job_title, job_in_headquarters, job_seniority, job_skills):\n",
    "\n",
    "  prediction_input = list()\n",
    "\n",
    "  prediction_input.append(sc_rating.transform(np.array(rating).reshape(1, -1)))\n",
    "  prediction_input.append(sc_founded.transform(np.array(founded).reshape(1, -1)))\n",
    "  prediction_input.append(competitors)\n",
    "  \n",
    "\n",
    "  sector_columns = ['sector_Biotech & Pharmaceuticals', 'sector_Health Care',\n",
    "                    'sector_Business Services','sector_Information Technology']\n",
    "  temp = list(map(int, np.zeros(shape=(1, len(sector_columns)))[0]))\n",
    "  for index in range(0, len(sector_columns)):\n",
    "    if sector_columns[index] == 'sector_' + sector:\n",
    "      temp[index] = 1\n",
    "      break\n",
    "  prediction_input = prediction_input + temp\n",
    "\n",
    "\n",
    "  if ownership == 'Private':\n",
    "    prediction_input.append(1)\n",
    "  else:\n",
    "    prediction_input.append(0)\n",
    "  \n",
    "\n",
    "  job_title_columns = ['job_title_data scientist', 'job_title_data analyst']\n",
    "  temp = list(map(int, np.zeros(shape=(1, len(job_title_columns)))[0]))\n",
    "  for index in range(0, len(job_title_columns)):\n",
    "    if job_title_columns[index] == 'job_title_' + job_title:\n",
    "      temp[index] = 1\n",
    "      break\n",
    "  prediction_input = prediction_input + temp\n",
    "\n",
    "\n",
    "  prediction_input.append(job_in_headquarters)\n",
    "\n",
    "\n",
    "  job_seniority_map = {'other': 0, 'jr': 1, 'sr': 2}\n",
    "  prediction_input.append(job_seniority_map[job_seniority])\n",
    "\n",
    "\n",
    "  temp = list(map(int, np.zeros(shape=(1, 4))[0]))\n",
    "  if 'excel' in job_skills:\n",
    "    temp[0] = 1\n",
    "  if 'python' in job_skills:\n",
    "    temp[1] = 1\n",
    "  if 'tableau' in job_skills:\n",
    "    temp[2] = 1\n",
    "  if 'sql' in job_skills:\n",
    "    temp[3] = 1\n",
    "  prediction_input = prediction_input + temp\n",
    "\n",
    "\n",
    "  return rf.predict([prediction_input])[0]"
   ]
  },
  {
   "cell_type": "code",
   "execution_count": null,
   "metadata": {
    "colab": {
     "base_uri": "https://localhost:8080/",
     "height": 35
    },
    "colab_type": "code",
    "id": "VSa2PDDyAH66",
    "outputId": "4f5e0581-78c8-47f2-a172-ba93b6461471"
   },
   "outputs": [],
   "source": [
    "# Prediction 1\n",
    "# Input sequence: 'company_rating', 'company_founded', 'competitors_count',\n",
    "#                 'company_sector', 'company_ownership', 'job_title', 'job_in_headquarters',\n",
    "#                 'job_seniority', 'job_skills'\n",
    "\n",
    "salary = predict_salary(4.5, 1969, 3, 'Information Technology', 'Private', 'data scientist', 1, 'sr', ['python', 'sql', 'tableau'])\n",
    "print('Estimated salary (range): {}(USD) to {}(USD) per annum.'.format(int(salary*1000)-9000, int(salary*1000)+9000))"
   ]
  },
  {
   "cell_type": "code",
   "execution_count": null,
   "metadata": {
    "colab": {
     "base_uri": "https://localhost:8080/",
     "height": 35
    },
    "colab_type": "code",
    "id": "S539S82-fUeN",
    "outputId": "3bd5a059-cc65-441a-8098-a752a235fbb0"
   },
   "outputs": [],
   "source": [
    "# Prediction 2\n",
    "# Input sequence: 'company_rating', 'company_founded', 'competitors_count',\n",
    "#                 'company_sector', 'company_ownership', 'job_title', 'job_in_headquarters',\n",
    "#                 'job_seniority', 'job_skills'\n",
    "\n",
    "salary = predict_salary(3.0, 2000, 1, 'Health Care', 'Public', 'data analyst', 0, 'jr', ['python', 'tableau'])\n",
    "print('Estimated salary (range): {}(USD) to {}(USD) per annum.'.format(int(salary*1000)-9000, int(salary*1000)+9000))"
   ]
  },
  {
   "cell_type": "code",
   "execution_count": null,
   "metadata": {},
   "outputs": [],
   "source": []
  },
  {
   "cell_type": "code",
   "execution_count": null,
   "metadata": {},
   "outputs": [],
   "source": []
  }
 ],
 "metadata": {
  "colab": {
   "collapsed_sections": [],
   "name": "Data Scientist's Salary Prediction.ipynb",
   "provenance": []
  },
  "kernelspec": {
   "display_name": "Python 3",
   "language": "python",
   "name": "python3"
  },
  "language_info": {
   "codemirror_mode": {
    "name": "ipython",
    "version": 3
   },
   "file_extension": ".py",
   "mimetype": "text/x-python",
   "name": "python",
   "nbconvert_exporter": "python",
   "pygments_lexer": "ipython3",
   "version": "3.7.10"
  }
 },
 "nbformat": 4,
 "nbformat_minor": 1
}
